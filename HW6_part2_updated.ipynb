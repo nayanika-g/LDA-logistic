{
 "cells": [
  {
   "cell_type": "markdown",
   "metadata": {},
   "source": [
    "#### Question 3 (3 points)"
   ]
  },
  {
   "cell_type": "markdown",
   "metadata": {},
   "source": [
    "a. Use the synthetic dataset (created below) to train a logistic regression model on the training set. Calculate the AUC of your prediction on the test set."
   ]
  },
  {
   "cell_type": "code",
   "execution_count": 2,
   "metadata": {},
   "outputs": [],
   "source": [
    "from sklearn import datasets\n",
    "from sklearn.model_selection import train_test_split\n",
    "\n",
    "X, y = datasets.make_classification(n_samples=2000, n_features=20,\n",
    "                                    n_informative=3)\n",
    "\n",
    "X_train, X_test, y_train, y_test = train_test_split(X, y, test_size=0.33, random_state=42)"
   ]
  },
  {
   "cell_type": "code",
   "execution_count": 5,
   "metadata": {},
   "outputs": [
    {
     "data": {
      "text/plain": [
       "0.7089895496025905"
      ]
     },
     "execution_count": 5,
     "metadata": {},
     "output_type": "execute_result"
    }
   ],
   "source": [
    "# Your code goes here\n",
    "from sklearn.linear_model import LogisticRegression\n",
    "from sklearn import metrics\n",
    "\n",
    "clf = LogisticRegression(random_state=0, solver='lbfgs', multi_class='multinomial').fit(X_train, y_train)\n",
    "y_pred_prob = clf.predict_proba(X_test)[:,1]\n",
    "fpr, tpr, thresholds = metrics.roc_curve(y_test, y_pred_prob)\n",
    "metrics.auc(fpr, tpr)"
   ]
  },
  {
   "cell_type": "markdown",
   "metadata": {},
   "source": [
    "b. Randomly sample 100, 300, and 1000 data points from the training set. For each sample size, randomly sample 1000 times, each time fit a logistic regresson, predict on the test set and calcuate the AUC. Plot a distribution of the 1000 AUCs for each sample size on the same plot. Also, plot the AUC you get from 3a as a verticle line on the same plot as well. (Hints: Plot [distributions/histogram](https://stackoverflow.com/questions/6871201/plot-two-histograms-on-single-chart-with-matplotlib).) "
   ]
  },
  {
   "cell_type": "code",
   "execution_count": 45,
   "metadata": {},
   "outputs": [
    {
     "data": {
      "image/png": "[encoded data removed]",
      "text/plain": [
       "<Figure size 432x288 with 1 Axes>"
      ]
     },
     "metadata": {},
     "output_type": "display_data"
    }
   ],
   "source": [
    "# Your code goes here\n",
    "import numpy as np\n",
    "import random\n",
    "import matplotlib.pyplot as plt\n",
    "\n",
    "def makeAUCList(sample_size):\n",
    "    auc_list = []\n",
    "    for n in range(1000):\n",
    "        indices = np.random.choice(np.arange(len(X_train)), sample_size)\n",
    "        X_train_sample = []\n",
    "        y_train_sample = []\n",
    "        for i in indices:\n",
    "            X_train_sample.append(X_train[i])\n",
    "            y_train_sample.append(y_train[i])\n",
    "        clf = LogisticRegression(random_state=0, solver='lbfgs', multi_class='multinomial').fit(X_train_sample, y_train_sample)\n",
    "        y_pred_prob = clf.predict_proba(X_test)[:,1]\n",
    "        fpr, tpr, thresholds = metrics.roc_curve(y_test, y_pred_prob)\n",
    "        auc_list.append(metrics.auc(fpr, tpr))\n",
    "    return auc_list\n",
    "\n",
    "auc_list_100 = makeAUCList(100)\n",
    "auc_list_300 = makeAUCList(300)\n",
    "auc_list_1000 = makeAUCList(1000)\n",
    "\n",
    "counts_100, bins_100 = np.histogram(auc_list_100)\n",
    "counts_300, bins_300 = np.histogram(auc_list_300)\n",
    "counts_1000, bins_1000 = np.histogram(auc_list_1000)\n",
    "\n",
    "plt.hist(bins[:-1], bins_100, weights=counts_100, alpha=0.6, label='n=100')\n",
    "plt.hist(bins[:-1], bins_300, weights=counts_300, alpha=0.6, label='n=300')\n",
    "plt.hist(bins[:-1], bins_1000, weights=counts_1000, alpha=0.6, label='n=1000')\n",
    "plt.legend(loc='upper right')\n",
    "plt.xlabel('AUC value')\n",
    "plt.ylabel('Frequency')\n",
    "plt.title('AUC distributions for Different Sample Sizes')\n",
    "axes = plt.gca()\n",
    "axes.set_xlim([0.63,0.76])\n",
    "axes.set_ylim([0,600])\n",
    "plt.show()"
   ]
  },
  {
   "cell_type": "markdown",
   "metadata": {},
   "source": [
    "c. What pattern did you see from the plot you get from 3b? Explain your findings."
   ]
  },
  {
   "cell_type": "code",
   "execution_count": null,
   "metadata": {},
   "outputs": [],
   "source": []
  }
 ],
 "metadata": {
  "kernelspec": {
   "display_name": "Python 3",
   "language": "python",
   "name": "python3"
  },
  "language_info": {
   "codemirror_mode": {
    "name": "ipython",
    "version": 3
   },
   "file_extension": ".py",
   "mimetype": "text/x-python",
   "name": "python",
   "nbconvert_exporter": "python",
   "pygments_lexer": "ipython3",
   "version": "3.6.8"
  }
 },
 "nbformat": 4,
 "nbformat_minor": 2
}
